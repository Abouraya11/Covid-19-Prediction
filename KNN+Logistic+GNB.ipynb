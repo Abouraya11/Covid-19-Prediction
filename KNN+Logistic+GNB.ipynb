{
 "cells": [
  {
   "cell_type": "markdown",
   "id": "ed17f7b8",
   "metadata": {},
   "source": [
    "# Important Imports"
   ]
  },
  {
   "cell_type": "code",
   "execution_count": 2,
   "id": "28578695",
   "metadata": {},
   "outputs": [],
   "source": [
    "import math\n",
    "import numpy as np\n",
    "import pandas as pd\n",
    "\n",
    "# To split data\n",
    "from sklearn.model_selection import train_test_split, cross_val_score\n",
    "\n",
    "# To compute accuracy\n",
    "from sklearn.metrics import accuracy_score, confusion_matrix, make_scorer, mean_absolute_error\n",
    "from sklearn.metrics import classification_report\n",
    "from sklearn.metrics import recall_score, precision_score\n",
    "\n",
    "from sklearn import metrics\n",
    "import matplotlib.pyplot as plt\n",
    "\n",
    "# To scale data\n",
    "from sklearn.preprocessing import MinMaxScaler\n",
    "\n",
    "# Classifiers\n",
    "from sklearn.linear_model import LogisticRegression\n",
    "from sklearn.naive_bayes import GaussianNB\n",
    "from sklearn.neighbors import KNeighborsClassifier"
   ]
  },
  {
   "cell_type": "markdown",
   "id": "cab3ad80",
   "metadata": {},
   "source": [
    "# To load the data\n",
    "#### &rarr; We specify that column 0 is the index column\n",
    "#### &rarr;  We print the first 5 rows"
   ]
  },
  {
   "cell_type": "code",
   "execution_count": 4,
   "id": "dcd97da2",
   "metadata": {},
   "outputs": [
    {
     "data": {
      "text/plain": "   location  country  gender   age  vis_wuhan  from_wuhan  symptom1  symptom2  \\\n0       104        8       1  66.0          1           0        14        31   \n1       101        8       0  56.0          0           1        14        31   \n2       137        8       1  46.0          0           1        14        31   \n3       116        8       0  60.0          1           0        14        31   \n4       116        8       1  58.0          0           0        14        31   \n\n   symptom3  symptom4  symptom5  symptom6  diff_sym_hos  result  \n0        19        12         3         1             8       1  \n1        19        12         3         1             0       0  \n2        19        12         3         1            13       0  \n3        19        12         3         1             0       0  \n4        19        12         3         1             0       0  ",
      "text/html": "<div>\n<style scoped>\n    .dataframe tbody tr th:only-of-type {\n        vertical-align: middle;\n    }\n\n    .dataframe tbody tr th {\n        vertical-align: top;\n    }\n\n    .dataframe thead th {\n        text-align: right;\n    }\n</style>\n<table border=\"1\" class=\"dataframe\">\n  <thead>\n    <tr style=\"text-align: right;\">\n      <th></th>\n      <th>location</th>\n      <th>country</th>\n      <th>gender</th>\n      <th>age</th>\n      <th>vis_wuhan</th>\n      <th>from_wuhan</th>\n      <th>symptom1</th>\n      <th>symptom2</th>\n      <th>symptom3</th>\n      <th>symptom4</th>\n      <th>symptom5</th>\n      <th>symptom6</th>\n      <th>diff_sym_hos</th>\n      <th>result</th>\n    </tr>\n  </thead>\n  <tbody>\n    <tr>\n      <th>0</th>\n      <td>104</td>\n      <td>8</td>\n      <td>1</td>\n      <td>66.0</td>\n      <td>1</td>\n      <td>0</td>\n      <td>14</td>\n      <td>31</td>\n      <td>19</td>\n      <td>12</td>\n      <td>3</td>\n      <td>1</td>\n      <td>8</td>\n      <td>1</td>\n    </tr>\n    <tr>\n      <th>1</th>\n      <td>101</td>\n      <td>8</td>\n      <td>0</td>\n      <td>56.0</td>\n      <td>0</td>\n      <td>1</td>\n      <td>14</td>\n      <td>31</td>\n      <td>19</td>\n      <td>12</td>\n      <td>3</td>\n      <td>1</td>\n      <td>0</td>\n      <td>0</td>\n    </tr>\n    <tr>\n      <th>2</th>\n      <td>137</td>\n      <td>8</td>\n      <td>1</td>\n      <td>46.0</td>\n      <td>0</td>\n      <td>1</td>\n      <td>14</td>\n      <td>31</td>\n      <td>19</td>\n      <td>12</td>\n      <td>3</td>\n      <td>1</td>\n      <td>13</td>\n      <td>0</td>\n    </tr>\n    <tr>\n      <th>3</th>\n      <td>116</td>\n      <td>8</td>\n      <td>0</td>\n      <td>60.0</td>\n      <td>1</td>\n      <td>0</td>\n      <td>14</td>\n      <td>31</td>\n      <td>19</td>\n      <td>12</td>\n      <td>3</td>\n      <td>1</td>\n      <td>0</td>\n      <td>0</td>\n    </tr>\n    <tr>\n      <th>4</th>\n      <td>116</td>\n      <td>8</td>\n      <td>1</td>\n      <td>58.0</td>\n      <td>0</td>\n      <td>0</td>\n      <td>14</td>\n      <td>31</td>\n      <td>19</td>\n      <td>12</td>\n      <td>3</td>\n      <td>1</td>\n      <td>0</td>\n      <td>0</td>\n    </tr>\n  </tbody>\n</table>\n</div>"
     },
     "execution_count": 4,
     "metadata": {},
     "output_type": "execute_result"
    }
   ],
   "source": [
    "dataFrame = pd.read_csv('data.csv', index_col=0)\n",
    "dataFrame.head(5)"
   ]
  },
  {
   "cell_type": "markdown",
   "id": "9881a1e9",
   "metadata": {},
   "source": [
    "# -----------------------------------------------------------------------------------------------"
   ]
  },
  {
   "cell_type": "markdown",
   "id": "179e4319",
   "metadata": {},
   "source": [
    "# KNN"
   ]
  },
  {
   "cell_type": "markdown",
   "id": "ae72580d",
   "metadata": {},
   "source": [
    "# Preprocessing the data\n",
    "* We first one-hot-encode the listed features as thet are considered categorical features (from location....diff_sys_hos)\n",
    "* We pop column result from the dataframe, to insert it back again in the last column in the dataframe\n",
    "* We store dataframe in numpy array"
   ]
  },
  {
   "cell_type": "code",
   "execution_count": 5,
   "id": "b09921ca",
   "metadata": {},
   "outputs": [],
   "source": [
    "OneHotEncoded_knn = pd.get_dummies(dataFrame, columns=['location', 'country', 'gender',\n",
    "                                                          'symptom1', 'symptom2', 'symptom3', 'symptom4', 'symptom5',\n",
    "                                                          'symptom6', 'diff_sym_hos'])\n",
    "# To make result column the last\n",
    "result_popped_knn = OneHotEncoded_knn.pop('result')\n",
    "\n",
    "OneHotEncoded_knn.insert(293, 'result', result_popped_knn)\n",
    "\n",
    "Data_knn = np.array(OneHotEncoded_knn)\n",
    "\n",
    "\n",
    "# Data[0]"
   ]
  },
  {
   "cell_type": "markdown",
   "id": "0e9d8066",
   "metadata": {},
   "source": [
    "# Splitting the data\n",
    "* We split the data 80% training set and 10% validation set and 10% testing set\n",
    "* We then split each set to x and y. \n",
    "\n",
    "   &rarr; X contains all the columns except column result \n",
    "   \n",
    "   &rarr; Y is the column result"
   ]
  },
  {
   "cell_type": "code",
   "execution_count": 6,
   "id": "d576ccc3",
   "metadata": {},
   "outputs": [],
   "source": [
    "Train_set_knn, Remain_set_knn = train_test_split(Data_knn, train_size=0.8, random_state=30, shuffle=True)\n",
    "Test_set_knn, Valid_set_knn = train_test_split(Remain_set_knn, test_size=0.5, random_state=30, shuffle=True)\n",
    "\n",
    "xTrain_knn = Train_set_knn[:, :293]\n",
    "yTrain_knn = Train_set_knn[:, 293]\n",
    "\n",
    "xTest_knn = Test_set_knn[:, :293]\n",
    "yTest_knn = Test_set_knn[:, 293]\n",
    "\n",
    "xValid_knn = Valid_set_knn[:, :293]\n",
    "yValid_knn = Valid_set_knn[:, 293]"
   ]
  },
  {
   "cell_type": "markdown",
   "id": "2c02d2ad",
   "metadata": {},
   "source": [
    "# To get best k using for loop\n",
    "&rarr; K represents number of neighbours (Number of points taken to know which class the new patient will belong to). The new data point is classified by the majority of votes from its k neighbours\n",
    "* In each k in for loop *(from 0 to square root of the size of validation set)*:\n",
    "\n",
    "  &rarr; We train the knn classifier with the training set\n",
    "  \n",
    "  &rarr; Then we predict the outcome by the validation set\n",
    "  \n",
    "  &rarr; Then we calculate the accuracy by recall_score, **as our output specifies whether the patient has Covid-19 or not, so    we are concerned more with the false negatives as it has more risk to specify that a patient has not Covid-19, but actually he   has. So the recall should be high**\n",
    "  \n",
    "  &rarr; Finally we choose the best k and print it"
   ]
  },
  {
   "cell_type": "code",
   "execution_count": 7,
   "id": "cfcd6f1a",
   "metadata": {},
   "outputs": [
    {
     "name": "stdout",
     "output_type": "stream",
     "text": [
      "The best number of neighbours is 3\n"
     ]
    }
   ],
   "source": [
    "k = 0\n",
    "best_k = 1\n",
    "maxAccuracy_knn = 0\n",
    "\n",
    "for k in range(1, int(math.sqrt(87))):\n",
    "    knnT = KNeighborsClassifier(n_neighbors=k)\n",
    "    knnT.fit(xTrain_knn, yTrain_knn)\n",
    "    PredictedOutcome_knn = knnT.predict(xValid_knn)\n",
    "    newAccuracy = recall_score(yValid_knn, PredictedOutcome_knn)\n",
    "    if newAccuracy > maxAccuracy_knn:\n",
    "        maxAccuracy_knn = newAccuracy\n",
    "        best_k = k\n",
    "\n",
    "# Best k\n",
    "print(\"The best number of neighbours is\", best_k)\n",
    "k = best_k"
   ]
  },
  {
   "cell_type": "markdown",
   "id": "419c92b7",
   "metadata": {},
   "source": [
    "# Train the data\n",
    "  &rarr; We train the knn classifier with the training set\n",
    "  \n",
    "  &rarr; Then we predict the outcome by the testing set"
   ]
  },
  {
   "cell_type": "code",
   "execution_count": 8,
   "id": "cdeed5d8",
   "metadata": {},
   "outputs": [],
   "source": [
    "knn = KNeighborsClassifier(n_neighbors=k)\n",
    "knn.fit(xTrain_knn, yTrain_knn)\n",
    "PredictedOutcome_knn = knn.predict(xTest_knn)"
   ]
  },
  {
   "cell_type": "markdown",
   "id": "bdb883ac",
   "metadata": {},
   "source": [
    "# Test the data and show accuracy\n",
    "  &rarr; We first print the total accuracy by the ready-built function accuracy score\n",
    "  \n",
    "  &rarr; Then we print the classification report\n",
    "  \n",
    "  &rarr; Then we print the confusion matrix\n",
    "  \n",
    "  &rarr; Then we plot the ROC graph and show the auc (area under curve) inside the graph"
   ]
  },
  {
   "cell_type": "code",
   "execution_count": 9,
   "id": "78c7f7d0",
   "metadata": {},
   "outputs": [
    {
     "name": "stdout",
     "output_type": "stream",
     "text": [
      "Accuracy :  97.67441860465115\n",
      "This is the classification report\n",
      "               precision    recall  f1-score   support\n",
      "\n",
      "         0.0       0.97      1.00      0.99        73\n",
      "         1.0       1.00      0.85      0.92        13\n",
      "\n",
      "    accuracy                           0.98        86\n",
      "   macro avg       0.99      0.92      0.95        86\n",
      "weighted avg       0.98      0.98      0.98        86\n",
      "\n",
      "This is the confusion matrix\n",
      " [[73  0]\n",
      " [ 2 11]]\n"
     ]
    },
    {
     "data": {
      "text/plain": "<Figure size 432x288 with 1 Axes>",
      "image/png": "[encoded data removed]"
     },
     "metadata": {
      "needs_background": "light"
     },
     "output_type": "display_data"
    }
   ],
   "source": [
    "print(\"Accuracy : \", accuracy_score(yTest_knn, PredictedOutcome_knn) * 100)\n",
    "print(\"This is the classification report\\n\", classification_report(yTest_knn, PredictedOutcome_knn))\n",
    "print(\"This is the confusion matrix\\n\", confusion_matrix(yTest_knn, PredictedOutcome_knn))\n",
    "\n",
    "y_predict_prob = knn.predict_proba(xTest_knn)[::, 1]\n",
    "fpr, tpr, _ = metrics.roc_curve(yTest_knn, y_predict_prob)\n",
    "auc = metrics.roc_auc_score(yTest_knn, y_predict_prob)\n",
    "plt.plot(fpr, tpr, label=\"data 1, auc=\" + str(auc))\n",
    "plt.legend(loc=4)\n",
    "plt.show()"
   ]
  },
  {
   "cell_type": "markdown",
   "id": "02a0fc14",
   "metadata": {},
   "source": [
    "# ------------------------------------------------------------------------------------------------------"
   ]
  },
  {
   "cell_type": "markdown",
   "id": "8642c8de",
   "metadata": {},
   "source": [
    "# Logistic regression"
   ]
  },
  {
   "cell_type": "markdown",
   "id": "7b587a91",
   "metadata": {},
   "source": [
    "# Preprocessing the data\n",
    "* We first one-hot-encode the listed features as thet are considered categorical features (from location....diff_sys_hos)\n",
    "* We pop column result from the dataframe, to insert it back again in the last column in the dataframe\n",
    "* We store dataframe in numpy array and apply to it MinMaxScaler to scale it from 0 to 1 (column age is the only column to be applied in it minmaxscaler as all other columns are one-hot-encoded)"
   ]
  },
  {
   "cell_type": "code",
   "execution_count": 10,
   "id": "40e3357b",
   "metadata": {},
   "outputs": [],
   "source": [
    "OneHotEncoded = pd.get_dummies(dataFrame, columns=['location', 'country', 'gender',\n",
    "                                                   'symptom1', 'symptom2', 'symptom3', 'symptom4', 'symptom5',\n",
    "                                                   'symptom6', 'diff_sym_hos'])\n",
    "# To make result column the last\n",
    "result_popped_log = OneHotEncoded.pop('result')\n",
    "\n",
    "OneHotEncoded.insert(293, 'result', result_popped_log)\n",
    "\n",
    "# To scale data\n",
    "Data_log = np.array(OneHotEncoded)\n",
    "Scaler = MinMaxScaler()\n",
    "Data_log = Scaler.fit_transform(Data_log)"
   ]
  },
  {
   "cell_type": "markdown",
   "id": "080a9aa0",
   "metadata": {},
   "source": [
    "# Splitting the data\n",
    "* We split the data 80% training set and 10% validation set and 10% testing set\n",
    "* We then split each set to x and y. \n",
    "\n",
    "   &rarr; X contains all the columns except column result \n",
    "   \n",
    "   &rarr; Y is the column result"
   ]
  },
  {
   "cell_type": "code",
   "execution_count": 11,
   "id": "dd703981",
   "metadata": {},
   "outputs": [],
   "source": [
    "Train_set, Remain_set = train_test_split(Data_log, train_size=0.8, random_state=14, shuffle=True)\n",
    "Test_set, Valid_set = train_test_split(Remain_set, test_size=0.5, random_state=1, shuffle=True)\n",
    "\n",
    "xTrain = Train_set[:, :293]\n",
    "yTrain = Train_set[:, 293]\n",
    "\n",
    "xTest = Test_set[:, :293]\n",
    "yTest = Test_set[:, 293]\n",
    "\n",
    "xValid = Valid_set[:, :293]\n",
    "yValid = Valid_set[:, 293]"
   ]
  },
  {
   "cell_type": "markdown",
   "id": "f498f3ed",
   "metadata": {},
   "source": [
    "# To get best C hyperparameter using for loop\n",
    "\n",
    "* &rarr; C represents the inverse regularization parameter - A control variable that retains strength modification of Regularization by being inversely positioned to the Lambda regulator, where\n",
    "\n",
    "   C = 1/λ\n",
    "   \n",
    "   The relationship, would be that lowering C - would strengthen the Lambda regulator.\n",
    "   \n",
    "   \n",
    "* In each C in for loop *(we check the values stated in the array)*:\n",
    "\n",
    "  &rarr; We train the logistic regression classifier with the training set\n",
    "  \n",
    "  &rarr; Then we predict the outcome by the validation set\n",
    "  \n",
    "  &rarr; Then we calculate the accuracy by recall_score, **as our output specifies whether the patient has Covid-19 or not, so    we are concerned more with the false negatives as it has more risk to specify that a patient has not Covid-19, but actually he   has. So the recall should be high**\n",
    "  \n",
    "  &rarr; Finally we choose the best C and print it"
   ]
  },
  {
   "cell_type": "code",
   "execution_count": 12,
   "id": "1bc986ac",
   "metadata": {},
   "outputs": [
    {
     "name": "stdout",
     "output_type": "stream",
     "text": [
      "The best C is 1\n"
     ]
    }
   ],
   "source": [
    "c = [0.00001, 0.0001, 0.001, 0.01, 0.1, 1]\n",
    "best_c = 0.001\n",
    "maxAccuracy = 0\n",
    "\n",
    "for num in c:\n",
    "    log_reg_T = LogisticRegression(C=num)\n",
    "    log_reg_T.fit(xTrain, yTrain)\n",
    "    PredictedOutcome = log_reg_T.predict(xValid)\n",
    "    newAccuracy = recall_score(yValid, PredictedOutcome)\n",
    "    if newAccuracy > maxAccuracy:\n",
    "        maxAccuracy = newAccuracy\n",
    "        best_c = num\n",
    "print(\"The best C is\", best_c)\n",
    "c = best_c"
   ]
  },
  {
   "cell_type": "markdown",
   "id": "2cd63f59",
   "metadata": {},
   "source": [
    "# Train the data\n",
    "  &rarr; We train the logistic regression classifier with the training set\n",
    "  \n",
    "  &rarr; Then we predict the outcome by the testing set"
   ]
  },
  {
   "cell_type": "code",
   "execution_count": 13,
   "id": "0b17276a",
   "metadata": {},
   "outputs": [],
   "source": [
    "log_reg = LogisticRegression()\n",
    "log_reg.fit(xTrain, yTrain)\n",
    "PredictedOutcome = log_reg.predict(xTest)"
   ]
  },
  {
   "cell_type": "markdown",
   "id": "f6ab6e66",
   "metadata": {},
   "source": [
    "# Test the data and show accuracy\n",
    "  &rarr; We first print the total accuracy by the ready-built function accuracy score\n",
    "  \n",
    "  &rarr; Then we print the classification report\n",
    "  \n",
    "  &rarr; Then we print the confusion matrix\n",
    "  \n",
    "  &rarr; Then we plot the ROC graph and show the auc (area under curve) inside the graph"
   ]
  },
  {
   "cell_type": "code",
   "execution_count": 14,
   "id": "909d01fa",
   "metadata": {},
   "outputs": [
    {
     "name": "stdout",
     "output_type": "stream",
     "text": [
      "Accuracy :  98.83720930232558\n",
      "This is the classification report\n",
      "               precision    recall  f1-score   support\n",
      "\n",
      "         0.0       0.99      1.00      0.99        80\n",
      "         1.0       1.00      0.83      0.91         6\n",
      "\n",
      "    accuracy                           0.99        86\n",
      "   macro avg       0.99      0.92      0.95        86\n",
      "weighted avg       0.99      0.99      0.99        86\n",
      "\n",
      "This is the confusion matrix\n",
      " [[80  0]\n",
      " [ 1  5]]\n"
     ]
    },
    {
     "data": {
      "text/plain": "<Figure size 432x288 with 1 Axes>",
      "image/png": "[encoded data removed]"
     },
     "metadata": {
      "needs_background": "light"
     },
     "output_type": "display_data"
    }
   ],
   "source": [
    "print(\"Accuracy : \", accuracy_score(yTest, PredictedOutcome) * 100)\n",
    "print(\"This is the classification report\\n\", classification_report(yTest, PredictedOutcome))\n",
    "print(\"This is the confusion matrix\\n\", confusion_matrix(yTest, PredictedOutcome))\n",
    "\n",
    "y_predict_prob = log_reg.predict_proba(xTest)[::, 1]\n",
    "fpr, tpr, _ = metrics.roc_curve(yTest, y_predict_prob)\n",
    "auc = metrics.roc_auc_score(yTest, y_predict_prob)\n",
    "plt.plot(fpr, tpr, label=\"data 1, auc=\" + str(auc))\n",
    "plt.legend(loc=4)\n",
    "plt.show()"
   ]
  },
  {
   "cell_type": "markdown",
   "id": "9edaa54f",
   "metadata": {},
   "source": [
    "# ----------------------------------------------------------------------------------------------------"
   ]
  },
  {
   "cell_type": "markdown",
   "id": "2c2cc30f",
   "metadata": {},
   "source": [
    "# Gaussian naive baise"
   ]
  },
  {
   "cell_type": "markdown",
   "id": "dc80ff7a",
   "metadata": {},
   "source": [
    "# Preprocessing the data\n",
    "* We first one-hot-encode the listed features as thet are considered categorical features (from location....diff_sys_hos)\n",
    "* We pop column result from the dataframe, to insert it back again in the last column in the dataframe\n",
    "* We pop column age from the dataframe, then we multiply each element by 150, as the result rely much on it, then insert it back\n",
    "* We store dataframe in numpy array"
   ]
  },
  {
   "cell_type": "code",
   "execution_count": 15,
   "id": "34ae2f3c",
   "metadata": {},
   "outputs": [],
   "source": [
    "OneHotEncoded = pd.get_dummies(dataFrame, columns=['location','country','gender',\n",
    "                                                   'symptom1', 'symptom2', 'symptom3', 'symptom4', 'symptom5',\n",
    "                                                   'symptom6', 'diff_sym_hos'])\n",
    "# To make result column the last\n",
    "result_popped = OneHotEncoded.pop('result')\n",
    "result_popped2 = OneHotEncoded.pop('age')\n",
    "\n",
    "result_popped2 = result_popped2*150\n",
    "OneHotEncoded.insert(1, 'age', result_popped2)\n",
    "OneHotEncoded.insert(293, 'result', result_popped)\n",
    "\n",
    "Data = np.array(OneHotEncoded)"
   ]
  },
  {
   "cell_type": "markdown",
   "id": "433bc6b0",
   "metadata": {},
   "source": [
    "# Splitting the data\n",
    "* We split the data 80% training set and 10% validation set and 10% testing set\n",
    "* We then split each set to x and y. \n",
    "\n",
    "   &rarr; X contains all the columns except column result \n",
    "   \n",
    "   &rarr; Y is the column result"
   ]
  },
  {
   "cell_type": "code",
   "execution_count": 16,
   "id": "b3df5355",
   "metadata": {},
   "outputs": [],
   "source": [
    "Train_set, Remain_set = train_test_split(Data, train_size=0.8, random_state=97, shuffle=True)\n",
    "Test_set, Valid_set = train_test_split(Remain_set, test_size=0.5, random_state=97, shuffle=True)\n",
    "\n",
    "xTrain = Train_set[:, :293]\n",
    "yTrain = Train_set[:, 293]\n",
    "\n",
    "xTest = Test_set[:, :293]\n",
    "yTest = Test_set[:, 293]\n",
    "\n",
    "xValid = Valid_set[:, :293]\n",
    "yValid = Valid_set[:, 293]"
   ]
  },
  {
   "cell_type": "markdown",
   "id": "e47a4ef7",
   "metadata": {},
   "source": [
    "# To get best var_smoothing hyperparameter using for loop \n",
    "* &rarr; Var_smoothing (Variance smoothing) hyperparameter specifies the portion of the largest variance of all features to be added to variances for stability of calculation.\n",
    "   \n",
    "   \n",
    "* In each smoothie in for loop *(we check the values stated in the array)*:\n",
    "\n",
    "  &rarr; We train the Gaissuan Naive Bayes classifier with the training set\n",
    "  \n",
    "  &rarr; Then we predict the outcome by the validation set\n",
    "  \n",
    "  &rarr; Then we calculate the accuracy by recall_score, **as our output specifies whether the patient has Covid-19 or not, so    we are concerned more with the false negatives as it has more risk to specify that a patient has not Covid-19, but actually he   has. So the recall should be high**\n",
    "  \n",
    "  &rarr; Finally we choose the best var_smoothing and print it"
   ]
  },
  {
   "cell_type": "code",
   "execution_count": 17,
   "id": "5cf850cc",
   "metadata": {},
   "outputs": [
    {
     "name": "stdout",
     "output_type": "stream",
     "text": [
      "The best smoothie is 1e-07\n"
     ]
    }
   ],
   "source": [
    "smoothie = [1e-9, 1e-8, 1e-7, 1e-6, 1e-5, 1e-4, 1e-3]\n",
    "best_smoothie = 1e-12\n",
    "maxAccuracy = 0\n",
    "for num in smoothie:\n",
    "    gnb_T = GaussianNB(var_smoothing=num)\n",
    "    gnb_T.fit(xTrain, yTrain)\n",
    "    PredictedOutcome = gnb_T.predict(xTest)\n",
    "    newAccuracy = recall_score(yTest, PredictedOutcome) + precision_score(yTest, PredictedOutcome)\n",
    "    if newAccuracy > maxAccuracy:\n",
    "        maxAccuracy = newAccuracy\n",
    "        best_smoothie = num\n",
    "        \n",
    "print(\"The best smoothie is\", best_smoothie)\n",
    "smoothie = best_smoothie"
   ]
  },
  {
   "cell_type": "markdown",
   "id": "521ac19f",
   "metadata": {},
   "source": [
    "# Train the data\n",
    "  &rarr; We train the gaussian naive baise classifier with the training set\n",
    "  \n",
    "  &rarr; Then we predict the outcome by the testing set"
   ]
  },
  {
   "cell_type": "code",
   "execution_count": 18,
   "id": "b75be4de",
   "metadata": {},
   "outputs": [],
   "source": [
    "gnb = GaussianNB(var_smoothing=smoothie)\n",
    "gnb.fit(xTrain, yTrain)\n",
    "PredictedOutcome = gnb.predict(xTest)"
   ]
  },
  {
   "cell_type": "markdown",
   "id": "d443edb6",
   "metadata": {},
   "source": [
    "# Test the data and show accuracy\n",
    "  &rarr; We first print the total accuracy by the ready-built function accuracy score\n",
    "  \n",
    "  &rarr; Then we print the classification report\n",
    "  \n",
    "  &rarr; Then we print the confusion matrix\n",
    "  \n",
    "  &rarr; Then we plot the ROC graph and show the auc (area under curve) inside the graph"
   ]
  },
  {
   "cell_type": "code",
   "execution_count": 19,
   "id": "a84f9dbd",
   "metadata": {
    "pycharm": {
     "name": "#%%\n"
    }
   },
   "outputs": [
    {
     "name": "stdout",
     "output_type": "stream",
     "text": [
      "Accuracy :  97.67441860465115\n",
      "This is the classification report\n",
      "               precision    recall  f1-score   support\n",
      "\n",
      "         0.0       0.97      1.00      0.99        76\n",
      "         1.0       1.00      0.80      0.89        10\n",
      "\n",
      "    accuracy                           0.98        86\n",
      "   macro avg       0.99      0.90      0.94        86\n",
      "weighted avg       0.98      0.98      0.98        86\n",
      "\n",
      "This is the confusion matrix\n",
      " [[76  0]\n",
      " [ 2  8]]\n"
     ]
    },
    {
     "data": {
      "text/plain": "<Figure size 432x288 with 1 Axes>",
      "image/png": "[encoded data removed]"
     },
     "metadata": {
      "needs_background": "light"
     },
     "output_type": "display_data"
    }
   ],
   "source": [
    "print(\"Accuracy : \", accuracy_score(yTest, PredictedOutcome) * 100)\n",
    "print(\"This is the classification report\\n\", classification_report(yTest, PredictedOutcome))\n",
    "print(\"This is the confusion matrix\\n\", confusion_matrix(yTest, PredictedOutcome))\n",
    "\n",
    "y_predict_prob = gnb.predict_proba(xTest)[::, 1]\n",
    "fpr, tpr, _ = metrics.roc_curve(yTest, y_predict_prob)\n",
    "auc = metrics.roc_auc_score(yTest, y_predict_prob)\n",
    "plt.plot(fpr, tpr, label=\"data 1, auc=\" + str(auc))\n",
    "plt.legend(loc=4)\n",
    "plt.show()"
   ]
  }
 ],
 "metadata": {
  "kernelspec": {
   "display_name": "Python 3 (ipykernel)",
   "language": "python",
   "name": "python3"
  },
  "language_info": {
   "codemirror_mode": {
    "name": "ipython",
    "version": 3
   },
   "file_extension": ".py",
   "mimetype": "text/x-python",
   "name": "python",
   "nbconvert_exporter": "python",
   "pygments_lexer": "ipython3",
   "version": "3.9.7"
  }
 },
 "nbformat": 4,
 "nbformat_minor": 5
}